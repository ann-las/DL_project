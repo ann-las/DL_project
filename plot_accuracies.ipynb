{
  "nbformat": 4,
  "nbformat_minor": 0,
  "metadata": {
    "colab": {
      "provenance": [],
      "authorship_tag": "ABX9TyPCu4c1kGphG0oNf07jp7Qh",
      "include_colab_link": true
    },
    "kernelspec": {
      "name": "python3",
      "display_name": "Python 3"
    },
    "language_info": {
      "name": "python"
    }
  },
  "cells": [
    {
      "cell_type": "markdown",
      "metadata": {
        "id": "view-in-github",
        "colab_type": "text"
      },
      "source": [
        "<a href=\"https://colab.research.google.com/github/ann-las/DL_project/blob/main/plot_accuracies.ipynb\" target=\"_parent\"><img src=\"https://colab.research.google.com/assets/colab-badge.svg\" alt=\"Open In Colab\"/></a>"
      ]
    },
    {
      "cell_type": "markdown",
      "source": [
        "This script recreates plots for Figure 5."
      ],
      "metadata": {
        "id": "B7VKgR2D5LgV"
      }
    },
    {
      "cell_type": "code",
      "source": [
        "# Mount the drive\n",
        "from google.colab import drive\n",
        "drive.mount('/content/drive')"
      ],
      "metadata": {
        "id": "L6aEVczG5aGu"
      },
      "execution_count": null,
      "outputs": []
    },
    {
      "cell_type": "code",
      "execution_count": 2,
      "metadata": {
        "id": "k3z5y1ac5KQ8"
      },
      "outputs": [],
      "source": [
        "%load_ext rpy2.ipython"
      ]
    },
    {
      "cell_type": "markdown",
      "source": [
        "## Initialization"
      ],
      "metadata": {
        "id": "Cru9TyuA5dEp"
      }
    },
    {
      "cell_type": "code",
      "source": [
        "%%R\n",
        "\n",
        "rm(list=ls())\n",
        "\n",
        "#########################################################\n",
        "# Authors: The Membrane Miners (s173461, abrisa, puqu)\n",
        "# Date: December 2023\n",
        "#\n",
        "# Script to create figures for confusion matrix metrics\n",
        "#########################################################\n",
        "\n",
        "#if(!require(devtools)) install.packages(\"devtools\") # Only necesssary for combined plots. Can be left out if it doesn't work.\n",
        "#devtools::install_github(\"kassambara/ggpubr\")\n",
        "\n",
        "library(tidyverse)\n",
        "library(ggpubr)"
      ],
      "metadata": {
        "colab": {
          "base_uri": "https://localhost:8080/"
        },
        "id": "5KJgruxc5eNd",
        "outputId": "f7cc406e-6557-4eaf-fd5d-82c4acaf4729"
      },
      "execution_count": 4,
      "outputs": [
        {
          "output_type": "stream",
          "name": "stdout",
          "text": [
            "── Attaching core tidyverse packages ──────────────────────── tidyverse 2.0.0 ──\n",
            "✔ dplyr     1.1.4     ✔ readr     2.1.4\n",
            "✔ forcats   1.0.0     ✔ stringr   1.5.1\n",
            "✔ ggplot2   3.4.4     ✔ tibble    3.2.1\n",
            "✔ lubridate 1.9.3     ✔ tidyr     1.3.0\n",
            "✔ purrr     1.0.2     \n",
            "── Conflicts ────────────────────────────────────────── tidyverse_conflicts() ──\n",
            "✖ dplyr::filter() masks stats::filter()\n",
            "✖ dplyr::lag()    masks stats::lag()\n",
            "ℹ Use the conflicted package (<http://conflicted.r-lib.org/>) to force all conflicts to become errors\n"
          ]
        },
        {
          "output_type": "stream",
          "name": "stderr",
          "text": [
            "WARNING:rpy2.rinterface_lib.callbacks:R[write to console]: Error in library(ggpubr) : there is no package called ‘ggpubr’\n",
            "\n"
          ]
        },
        {
          "output_type": "stream",
          "name": "stdout",
          "text": [
            "\n",
            "Error in library(ggpubr) : there is no package called ‘ggpubr’\n"
          ]
        }
      ]
    },
    {
      "cell_type": "markdown",
      "source": [
        "## Define values and create tibbles"
      ],
      "metadata": {
        "id": "2NGJiFElGciQ"
      }
    },
    {
      "cell_type": "code",
      "source": [
        "%%R\n",
        "\n",
        "# ---------- Define values -----------\n",
        "\n",
        "# Values for DeepTMHMM\n",
        "deeptmhmm_type_correct_accuracies <- 0.9838051795959473\n",
        "deeptmhmm_topology_accuracies <- c(0.8831169009208679, 1.0, 0.9649999737739563, 0.9800000190734863, 0.6875)\n",
        "deeptmhmm_type_accuracies <- c(0.9740259647369385, 1.0, 0.9649999737739563, 0.9800000190734863, 1.0)\n",
        "\n",
        "\n",
        "# Values for our model (based on micro end predictions and targets)\n",
        "our_type_correct_accuracies <- 0.400\n",
        "our_topology_accuracies <- c(1.0, 0.0, 0.0, 1.0, 0.0)\n",
        "our_type_accuracies <- c(1.0, 0.0, 0.0, 1.0, 0.0)\n",
        "\n",
        "\n",
        "# Create tibble\n",
        "type_correct_tibble <- tibble(protein_type = c(\"Overall\"),\n",
        "                              DeepTMHMM = deeptmhmm_type_correct_accuracies,\n",
        "                              Model = our_type_correct_accuracies) %>%\n",
        "  pivot_longer(cols = c(DeepTMHMM, Model), names_to = \"Model\", values_to = \"value\")\n",
        "\n",
        "top_accuracies_tibble <- tibble(protein_type = c(\"TM\", \"TM + SP\", \"SP\", \"Glob\", \"Beta\"),\n",
        "                               DeepTMHMM = deeptmhmm_topology_accuracies,\n",
        "                               Model = our_topology_accuracies) %>%\n",
        "  pivot_longer(cols = c(DeepTMHMM, Model), names_to = \"Model\", values_to = \"value\")\n",
        "\n",
        "type_accuracies_tibble <- tibble(protein_type = c(\"TM\", \"TM + SP\", \"SP\", \"Glob\", \"Beta\"),\n",
        "                                DeepTMHMM = deeptmhmm_type_accuracies,\n",
        "                                Model = our_type_accuracies) %>%\n",
        "  pivot_longer(cols = c(DeepTMHMM, Model), names_to = \"Model\", values_to = \"value\")\n"
      ],
      "metadata": {
        "id": "JKYH8AMvGfKS"
      },
      "execution_count": 5,
      "outputs": []
    },
    {
      "cell_type": "markdown",
      "source": [
        "## Plots"
      ],
      "metadata": {
        "id": "InITFXiTGgsS"
      }
    },
    {
      "cell_type": "code",
      "source": [
        "%%R\n",
        "\n",
        "# Make plot for topology\n",
        "top_plot <- ggplot(data = top_accuracies_tibble, mapping = aes(x = factor(protein_type, levels = c(\"TM\", \"TM + SP\", \"SP\", \"Glob\", \"Beta\")), y = value*100, fill = factor(Model, levels = c(\"Model\", \"DeepTMHMM\")))) +\n",
        "  geom_col(position = \"dodge\") +\n",
        "  theme_classic() +\n",
        "  xlab(\"\") +\n",
        "  ylab(\"% topology accuracy\") +\n",
        "  scale_y_continuous(breaks = round(seq(0, 100 , by = 10))) +\n",
        "  theme(legend.position = \"none\")"
      ],
      "metadata": {
        "id": "2IW0PzpAGjHp"
      },
      "execution_count": 6,
      "outputs": []
    },
    {
      "cell_type": "code",
      "source": [
        "%%R\n",
        "\n",
        "# Make plot for overall\n",
        "overall_plot <- ggplot(data = type_correct_tibble, mapping = aes(x = factor(protein_type), y = value*100, fill = factor(Model, levels = c(\"Model\", \"DeepTMHMM\")))) +\n",
        "  geom_col(position = \"dodge\") +\n",
        "  theme_classic() +\n",
        "  xlab(\"  \") +\n",
        "  ylab(\"Type accuracy\") + # Maybe add this to overall\n",
        "  scale_y_continuous(breaks = round(seq(0, 100 , by = 10))) +\n",
        "  theme(axis.text.y=element_blank(),axis.ticks=element_blank(),\n",
        "        axis.title.y=element_blank(),\n",
        "        #legend.position=\"none\",\n",
        "        axis.line.y = element_blank(),\n",
        "        legend.title = element_blank())"
      ],
      "metadata": {
        "id": "ZVckD0GIGnLr"
      },
      "execution_count": 7,
      "outputs": []
    },
    {
      "cell_type": "code",
      "source": [
        "%%R\n",
        "\n",
        "# Make plot for type\n",
        "type_plot <- ggplot(data = type_accuracies_tibble, mapping = aes(x = factor(protein_type, levels = c(\"TM\", \"TM + SP\", \"SP\", \"Glob\", \"Beta\")), y = value*100, fill = factor(Model, levels = c(\"Model\", \"DeepTMHMM\")))) +\n",
        "  geom_col(position = \"dodge\") +\n",
        "  theme_classic() +\n",
        "  xlab(\" \") +\n",
        "  ylab(\"% type accuracy\") +\n",
        "  scale_y_continuous(breaks = round(seq(0, 100 , by = 10))) +\n",
        "  theme(legend.position=\"none\",\n",
        "        legend.title = element_blank())"
      ],
      "metadata": {
        "id": "ameKlzg9Gphh"
      },
      "execution_count": 8,
      "outputs": []
    },
    {
      "cell_type": "code",
      "source": [
        "%%R\n",
        "\n",
        "top_plot"
      ],
      "metadata": {
        "colab": {
          "base_uri": "https://localhost:8080/",
          "height": 497
        },
        "id": "pG7BOcDNGrri",
        "outputId": "2f1bdfb8-8c6d-426d-b67d-fbbe840cb3f6"
      },
      "execution_count": 9,
      "outputs": [
        {
          "output_type": "display_data",
          "data": {
            "image/png": "[encoded data removed]"
          },
          "metadata": {}
        }
      ]
    },
    {
      "cell_type": "code",
      "source": [
        "%%R\n",
        "#ggarrange(type_plot, overall_plot, common.legend = TRUE, legend = \"bottom\", widths = c(8,2))\n",
        "type_plot"
      ],
      "metadata": {
        "colab": {
          "base_uri": "https://localhost:8080/",
          "height": 497
        },
        "id": "klRgM522GvI0",
        "outputId": "5db440cf-f8bc-4fb6-d361-d69d7a24c17a"
      },
      "execution_count": 11,
      "outputs": [
        {
          "output_type": "display_data",
          "data": {
            "image/png": "[encoded data removed]"
          },
          "metadata": {}
        }
      ]
    },
    {
      "cell_type": "code",
      "source": [
        "%%R\n",
        "\n",
        "overall_plot"
      ],
      "metadata": {
        "colab": {
          "base_uri": "https://localhost:8080/",
          "height": 497
        },
        "id": "pO4ASdTXHGmk",
        "outputId": "c37c6090-9cec-44b1-9c7a-cbc55c67425b"
      },
      "execution_count": 13,
      "outputs": [
        {
          "output_type": "display_data",
          "data": {
            "image/png": "[encoded data removed]"
          },
          "metadata": {}
        }
      ]
    }
  ]
}