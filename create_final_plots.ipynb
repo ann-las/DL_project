{
  "nbformat": 4,
  "nbformat_minor": 0,
  "metadata": {
    "colab": {
      "provenance": [],
      "authorship_tag": "ABX9TyPX7A27y3bxTftnNoA1rr4F",
      "include_colab_link": true
    },
    "kernelspec": {
      "name": "python3",
      "display_name": "Python 3"
    },
    "language_info": {
      "name": "python"
    }
  },
  "cells": [
    {
      "cell_type": "markdown",
      "metadata": {
        "id": "view-in-github",
        "colab_type": "text"
      },
      "source": [
        "<a href=\"https://colab.research.google.com/github/ann-las/DL_project/blob/main/create_final_plots.ipynb\" target=\"_parent\"><img src=\"https://colab.research.google.com/assets/colab-badge.svg\" alt=\"Open In Colab\"/></a>"
      ]
    },
    {
      "cell_type": "markdown",
      "source": [
        "This script recreates plots for Figure 4."
      ],
      "metadata": {
        "id": "3UaA03HN43F4"
      }
    },
    {
      "cell_type": "code",
      "source": [
        "# Mount the drive\n",
        "from google.colab import drive\n",
        "drive.mount('/content/drive')"
      ],
      "metadata": {
        "colab": {
          "base_uri": "https://localhost:8080/"
        },
        "id": "gFqHbXqO251Z",
        "outputId": "2298722c-b79b-4d0c-c321-d78188e04c18"
      },
      "execution_count": 1,
      "outputs": [
        {
          "output_type": "stream",
          "name": "stdout",
          "text": [
            "Drive already mounted at /content/drive; to attempt to forcibly remount, call drive.mount(\"/content/drive\", force_remount=True).\n"
          ]
        }
      ]
    },
    {
      "cell_type": "code",
      "execution_count": 2,
      "metadata": {
        "id": "xMwKy7nF1e-f"
      },
      "outputs": [],
      "source": [
        "%load_ext rpy2.ipython"
      ]
    },
    {
      "cell_type": "markdown",
      "source": [
        "## Initialization"
      ],
      "metadata": {
        "id": "nwnpc3NO10jD"
      }
    },
    {
      "cell_type": "code",
      "source": [
        "%%R\n",
        "\n",
        "rm(list=ls())\n",
        "\n",
        "#########################################################\n",
        "# Authors: The Membrane Miners (s173461, abrisa, puqu)\n",
        "# Date: December 2023\n",
        "#\n",
        "# Script to create figures for loss and F1 score trajectories\n",
        "#########################################################\n",
        "\n",
        "#if(!require(devtools)) install.packages(\"devtools\") # Only necesssary for combined plots. Can be left out if it doesn't work.\n",
        "#devtools::install_github(\"kassambara/ggpubr\")\n",
        "\n",
        "library(tidyverse)\n",
        "library(ggpubr)\n",
        "\n",
        "\n",
        "\n",
        "\n"
      ],
      "metadata": {
        "colab": {
          "base_uri": "https://localhost:8080/"
        },
        "id": "a347LChv1oU9",
        "outputId": "77079bb3-7277-4863-dceb-ba461b121dad"
      },
      "execution_count": 3,
      "outputs": [
        {
          "output_type": "stream",
          "name": "stdout",
          "text": [
            "── Attaching core tidyverse packages ──────────────────────── tidyverse 2.0.0 ──\n",
            "✔ dplyr     1.1.4     ✔ readr     2.1.4\n",
            "✔ forcats   1.0.0     ✔ stringr   1.5.1\n",
            "✔ ggplot2   3.4.4     ✔ tibble    3.2.1\n",
            "✔ lubridate 1.9.3     ✔ tidyr     1.3.0\n",
            "✔ purrr     1.0.2     \n",
            "── Conflicts ────────────────────────────────────────── tidyverse_conflicts() ──\n",
            "✖ dplyr::filter() masks stats::filter()\n",
            "✖ dplyr::lag()    masks stats::lag()\n",
            "ℹ Use the conflicted package (<http://conflicted.r-lib.org/>) to force all conflicts to become errors\n"
          ]
        },
        {
          "output_type": "stream",
          "name": "stderr",
          "text": [
            "WARNING:rpy2.rinterface_lib.callbacks:R[write to console]: Error in library(ggpubr) : there is no package called ‘ggpubr’\n",
            "\n"
          ]
        },
        {
          "output_type": "stream",
          "name": "stdout",
          "text": [
            "\n",
            "Error in library(ggpubr) : there is no package called ‘ggpubr’\n"
          ]
        }
      ]
    },
    {
      "cell_type": "markdown",
      "source": [
        "User-added files:"
      ],
      "metadata": {
        "id": "RLK-T7n52AVv"
      }
    },
    {
      "cell_type": "code",
      "source": [
        "%%R\n",
        "final_exp <- read_csv(\"/path/to/output_v34.csv\")\n",
        "out_micro <- read_csv(\"/path/to/micro_end_metrics.csv\")\n",
        "out_macro <- read_csv(\"/path/to/macro_end_metrics.csv\")\n",
        "out_softmax_micro <- read_csv(\"/path/to/micro/softmax_metrics.csv\")"
      ],
      "metadata": {
        "colab": {
          "base_uri": "https://localhost:8080/"
        },
        "id": "109GrQbv1_Pk",
        "outputId": "59331ccd-9956-4008-cb41-e3ea2f639264"
      },
      "execution_count": 4,
      "outputs": [
        {
          "output_type": "stream",
          "name": "stdout",
          "text": [
            "Rows: 149 Columns: 15\n",
            "── Column specification ────────────────────────────────────────────────────────\n",
            "Delimiter: \",\"\n",
            "dbl (15): val/loss/total, lr-Adam, step, val/loss/node_label, val/node_label...\n",
            "\n",
            "ℹ Use `spec()` to retrieve the full column specification for this data.\n",
            "ℹ Specify the column types or set `show_col_types = FALSE` to quiet this message.\n"
          ]
        }
      ]
    },
    {
      "cell_type": "markdown",
      "source": [
        "## Plots for final experiment"
      ],
      "metadata": {
        "id": "w9Wnz25I13F6"
      }
    },
    {
      "cell_type": "code",
      "source": [
        "%%R\n",
        "\n",
        "final_exp %>%\n",
        "  mutate(epoch = as.factor(epoch)) %>%\n",
        "  ggplot(aes(x = step)) +\n",
        "  geom_point(aes(y = `train/node_label/f1_score`, color = \"Training\"), size = 0.2) +\n",
        "  geom_point(aes(y = `val/node_label/f1_score`, color = \"Validation\"), size = 0.2) +\n",
        "  geom_path(aes(y = `train/node_label/f1_score`, group = ifelse(!is.na(`train/node_label/f1_score`), \"Training\", NA), color = \"Training\"), show.legend = TRUE) +\n",
        "  geom_path(aes(y = `val/node_label/f1_score`, group = ifelse(!is.na(`val/node_label/f1_score`), \"Validation\", NA), color = \"Validation\"), show.legend = TRUE) +\n",
        "  theme_bw() +\n",
        "  #labs(title = \"Loss\") +\n",
        "  ylab('F1 Macro') +\n",
        "  scale_color_manual(values = c(\"Training\" = \"blue\", \"Validation\" = \"orange\"),\n",
        "                     labels = c(\"Training\", \"Validation\")) +\n",
        "  theme_classic() +\n",
        "  theme(legend.position = c(0.2, 0.75), #legend.position = \"bottom\",\n",
        "        legend.background = element_rect(fill = \"white\"),\n",
        "        legend.title = element_blank(),\n",
        "        text = element_text(size = 20),\n",
        "        axis.text.y=element_text(size=18))\n"
      ],
      "metadata": {
        "colab": {
          "base_uri": "https://localhost:8080/",
          "height": 497
        },
        "id": "qYzSuwwu152h",
        "outputId": "7e792add-722e-4f96-be53-b371e204d4d0"
      },
      "execution_count": 6,
      "outputs": [
        {
          "output_type": "display_data",
          "data": {
            "image/png": "[encoded data removed]"
          },
          "metadata": {}
        }
      ]
    },
    {
      "cell_type": "code",
      "source": [
        "%%R\n",
        "\n",
        "final_exp %>%\n",
        "  mutate(epoch = as.factor(epoch)) %>%\n",
        "  ggplot(aes(x = step)) +\n",
        "  geom_point(aes(y = `train/loss/node_label`, color = \"Training\"), size = 0.2) +\n",
        "  geom_point(aes(y = `val/loss/node_label`, color = \"Validation\"), size = 0.2) +\n",
        "  geom_path(aes(y = `train/loss/node_label`, group = ifelse(!is.na(`train/loss/node_label`), \"Training\", NA), color = \"Training\"), show.legend = TRUE) +\n",
        "  geom_path(aes(y = `val/loss/node_label`, group = ifelse(!is.na(`val/loss/node_label`), \"Validation\", NA), color = \"Validation\"), show.legend = TRUE) +\n",
        "  theme_bw() +\n",
        "  #labs(title = \"Loss\") +\n",
        "  ylab('Loss') +\n",
        "  scale_color_manual(values = c(\"Training\" = \"blue\", \"Validation\" = \"orange\"),\n",
        "                     labels = c(\"Training\", \"Validation\")) +\n",
        "  theme_classic() +\n",
        "  theme(legend.position = \"None\",\n",
        "        legend.background = element_rect(fill = \"white\"),\n",
        "        legend.title = element_blank(),\n",
        "        text = element_text(size = 20),\n",
        "        axis.text.y=element_text(size=18))"
      ],
      "metadata": {
        "colab": {
          "base_uri": "https://localhost:8080/",
          "height": 497
        },
        "id": "jWac8T7I4OWk",
        "outputId": "bcf1a99c-77b1-4400-86d2-bb7c3b422f66"
      },
      "execution_count": 7,
      "outputs": [
        {
          "output_type": "display_data",
          "data": {
            "image/png": "[encoded data removed]"
          },
          "metadata": {}
        }
      ]
    },
    {
      "cell_type": "markdown",
      "source": [
        "## Plots for final training"
      ],
      "metadata": {
        "id": "U32ECLE42JVG"
      }
    },
    {
      "cell_type": "code",
      "source": [
        "%%R\n",
        "\n",
        "# Produce F1 micro plot\n",
        "val_f1micro <- out_micro %>%\n",
        "  mutate(epoch = as.factor(epoch)) %>%\n",
        "  ggplot(aes(x = step)) +\n",
        "  geom_point(aes(y = `train/node_label/f1_score`, color = \"Training\"), size = 0.2) +\n",
        "  geom_point(aes(y = `val/node_label/f1_score`, color = \"Validation\"), size = 0.2) +\n",
        "  geom_path(aes(y = `train/node_label/f1_score`, group = ifelse(!is.na(`train/node_label/f1_score`), \"Training\", NA), color = \"Training\"), show.legend = TRUE) +\n",
        "  geom_path(aes(y = `val/node_label/f1_score`, group = ifelse(!is.na(`val/node_label/f1_score`), \"Validation\", NA), color = \"Validation\"), show.legend = TRUE) +\n",
        "  theme_bw() +\n",
        "  #labs(title = \"Loss\") +\n",
        "  ylab('F1 Micro') +\n",
        "  scale_color_manual(values = c(\"Training\" = \"blue\", \"Validation\" = \"orange\"),\n",
        "                     labels = c(\"Training\", \"Validation\")) +\n",
        "  theme_classic() +\n",
        "  theme(legend.position = c(0.8, 0.75), #legend.position = \"bottom\",\n",
        "        legend.background = element_rect(fill = \"white\"),\n",
        "        legend.title = element_blank(),\n",
        "        text = element_text(size = 20),\n",
        "        axis.text.y=element_text(size=18))\n",
        "val_f1micro\n",
        "\n",
        "\n"
      ],
      "metadata": {
        "id": "4Yt4XGnZ2Ob9"
      },
      "execution_count": null,
      "outputs": []
    },
    {
      "cell_type": "code",
      "source": [
        "%%R\n",
        "\n",
        "# Produce F1 macro plot\n",
        "val_f1macro <- out_macro %>%\n",
        "  mutate(epoch = as.factor(epoch)) %>%\n",
        "  ggplot(aes(x = step)) +\n",
        "  geom_point(aes(y = `train/node_label/f1_score`, color = \"Training\"), size = 0.2) +\n",
        "  geom_point(aes(y = `val/node_label/f1_score`, color = \"Validation\"), size = 0.2) +\n",
        "  geom_path(aes(y = `train/node_label/f1_score`, group = ifelse(!is.na(`train/node_label/f1_score`), \"Training\", NA), color = \"Training\"), show.legend = TRUE) +\n",
        "  geom_path(aes(y = `val/node_label/f1_score`, group = ifelse(!is.na(`val/node_label/f1_score`), \"Validation\", NA), color = \"Validation\"), show.legend = TRUE) +\n",
        "  theme_bw() +\n",
        "  #labs(title = \"Loss\") +\n",
        "  ylab('F1 Macro') +\n",
        "  scale_color_manual(values = c(\"Training\" = \"blue\", \"Validation\" = \"orange\"),\n",
        "                     labels = c(\"Training\", \"Validation\")) +\n",
        "  theme_classic() +\n",
        "  theme(legend.position = \"None\",\n",
        "        legend.background = element_rect(fill = \"white\"),\n",
        "        legend.title = element_blank(),\n",
        "        text = element_text(size = 20),\n",
        "        axis.text.x=element_text(size=18),\n",
        "        axis.text.y=element_text(size=18))\n",
        "val_f1macro\n",
        "\n"
      ],
      "metadata": {
        "id": "yBQfLDmk4T3w"
      },
      "execution_count": null,
      "outputs": []
    },
    {
      "cell_type": "code",
      "source": [
        "%%R\n",
        "\n",
        "# Create loss plot for micro run\n",
        "loss_micro <- out_micro %>%\n",
        "  mutate(epoch = as.factor(epoch)) %>%\n",
        "  ggplot(aes(x = step)) +\n",
        "  geom_point(aes(y = `train/loss/node_label`, color = \"Training\"), size = 0.2) +\n",
        "  geom_point(aes(y = `val/loss/node_label`, color = \"Validation\"), size = 0.2) +\n",
        "  geom_path(aes(y = `train/loss/node_label`, group = ifelse(!is.na(`train/loss/node_label`), \"Training\", NA), color = \"Training\"), show.legend = TRUE) +\n",
        "  geom_path(aes(y = `val/loss/node_label`, group = ifelse(!is.na(`val/loss/node_label`), \"Validation\", NA), color = \"Validation\"), show.legend = TRUE) +\n",
        "  theme_bw() +\n",
        "  #labs(title = \"Loss (micro)\") +\n",
        "  ylab('Loss (micro)') +\n",
        "  scale_color_manual(values = c(\"Training\" = \"blue\", \"Validation\" = \"orange\"),\n",
        "                     labels = c(\"Training\", \"Validation\")) +\n",
        "  theme_classic() +\n",
        "  theme(legend.position = \"None\",\n",
        "        legend.background = element_rect(fill = \"white\"),\n",
        "        legend.title = element_blank(),\n",
        "        text = element_text(size = 20),\n",
        "        axis.text.y=element_text(size=18))\n",
        "\n"
      ],
      "metadata": {
        "id": "AMB8oCNe4Wqc"
      },
      "execution_count": null,
      "outputs": []
    },
    {
      "cell_type": "code",
      "source": [
        "%%R\n",
        "\n",
        "# Create loss plot for macro run\n",
        "loss_macro <- out_macro %>%\n",
        "  mutate(epoch = as.factor(epoch)) %>%\n",
        "  ggplot(aes(x = step)) +\n",
        "  geom_point(aes(y = `train/loss/node_label`, color = \"Training\"), size = 0.2) +\n",
        "  geom_point(aes(y = `val/loss/node_label`, color = \"Validation\"), size = 0.2) +\n",
        "  geom_path(aes(y = `train/loss/node_label`, group = ifelse(!is.na(`train/loss/node_label`), \"Training\", NA), color = \"Training\"), show.legend = TRUE) +\n",
        "  geom_path(aes(y = `val/loss/node_label`, group = ifelse(!is.na(`val/loss/node_label`), \"Validation\", NA), color = \"Validation\"), show.legend = TRUE) +\n",
        "  theme_bw() +\n",
        "  #labs(title = \"Loss (macro)\") +\n",
        "  ylab('Loss (macro)') +\n",
        "  scale_color_manual(values = c(\"Training\" = \"blue\", \"Validation\" = \"orange\"),\n",
        "                     labels = c(\"Training\", \"Validation\")) +\n",
        "  theme_classic() +\n",
        "  theme(legend.position = \"bottom\",\n",
        "        legend.background = element_rect(fill = \"white\"),\n",
        "        legend.title = element_blank(),\n",
        "        text = element_text(size = 20),\n",
        "        axis.text.y=element_text(size=18))\n",
        "\n"
      ],
      "metadata": {
        "id": "2gCx17xY4ci9"
      },
      "execution_count": null,
      "outputs": []
    },
    {
      "cell_type": "code",
      "source": [
        "%%R\n",
        "# Create common loss plot\n",
        "ggarrange(loss_micro, loss_macro, nrow = 2, common.legend = TRUE)\n"
      ],
      "metadata": {
        "id": "501DnZ434gV_"
      },
      "execution_count": null,
      "outputs": []
    },
    {
      "cell_type": "code",
      "source": [
        "%%R\n",
        "# Create common loss and f1 plot\n",
        "common_plot <- ggarrange(loss_micro, val_f1micro, val_f1macro, nrow = 3, common.legend = TRUE, legend = \"bottom\")"
      ],
      "metadata": {
        "id": "b7mpjcGK4jD9"
      },
      "execution_count": null,
      "outputs": []
    },
    {
      "cell_type": "markdown",
      "source": [
        "## Plots for softmax\n"
      ],
      "metadata": {
        "id": "us6S6aBT2Tjk"
      }
    },
    {
      "cell_type": "code",
      "source": [
        "%%R\n",
        "\n",
        "# F1 micro\n",
        "out_softmax_micro %>%\n",
        "  mutate(epoch = as.factor(epoch)) %>%\n",
        "  ggplot(aes(x = step)) +\n",
        "  geom_point(aes(y = `train/node_label/f1_score`, color = \"Training\"), size = 0.2) +\n",
        "  geom_point(aes(y = `val/node_label/f1_score`, color = \"Validation\"), size = 0.2) +\n",
        "  geom_path(aes(y = `train/node_label/f1_score`, group = ifelse(!is.na(`train/node_label/f1_score`), \"Training\", NA), color = \"Training\"), show.legend = TRUE) +\n",
        "  geom_path(aes(y = `val/node_label/f1_score`, group = ifelse(!is.na(`val/node_label/f1_score`), \"Validation\", NA), color = \"Validation\"), show.legend = TRUE) +\n",
        "  theme_bw() +\n",
        "  #labs(title = \"Loss\") +\n",
        "  ylab('F1 Micro') +\n",
        "  scale_color_manual(values = c(\"Training\" = \"blue\", \"Validation\" = \"orange\"),\n",
        "                     labels = c(\"Training\", \"Validation\")) +\n",
        "  theme_classic() +\n",
        "  theme(legend.position = c(0.8, 0.75), #legend.position = \"bottom\",\n",
        "        legend.background = element_rect(fill = \"white\"),\n",
        "        legend.title = element_blank(),\n",
        "        text = element_text(size = 20),\n",
        "        axis.text.y=element_text(size=18))\n"
      ],
      "metadata": {
        "id": "tvOoAAwL2bIZ"
      },
      "execution_count": null,
      "outputs": []
    },
    {
      "cell_type": "code",
      "source": [
        "%%R\n",
        "\n",
        "# Loss\n",
        "out_softmax_micro %>%\n",
        "  mutate(epoch = as.factor(epoch)) %>%\n",
        "  ggplot(aes(x = step)) +\n",
        "  geom_point(aes(y = `train/loss/node_label`, color = \"Training\"), size = 0.2) +\n",
        "  geom_point(aes(y = `val/loss/node_label`, color = \"Validation\"), size = 0.2) +\n",
        "  geom_path(aes(y = `train/loss/node_label`, group = ifelse(!is.na(`train/loss/node_label`), \"Training\", NA), color = \"Training\"), show.legend = TRUE) +\n",
        "  geom_path(aes(y = `val/loss/node_label`, group = ifelse(!is.na(`val/loss/node_label`), \"Validation\", NA), color = \"Validation\"), show.legend = TRUE) +\n",
        "  theme_bw() +\n",
        "  #labs(title = \"Loss\") +\n",
        "  ylab('Loss') +\n",
        "  scale_color_manual(values = c(\"Training\" = \"blue\", \"Validation\" = \"orange\"),\n",
        "                     labels = c(\"Training\", \"Validation\")) +\n",
        "  theme_classic() +\n",
        "  theme(legend.position = \"None\",\n",
        "        legend.background = element_rect(fill = \"white\"),\n",
        "        legend.title = element_blank(),\n",
        "        text = element_text(size = 20),\n",
        "        axis.text.y=element_text(size=18))"
      ],
      "metadata": {
        "id": "OS7yNJlf4opG"
      },
      "execution_count": null,
      "outputs": []
    }
  ]
}