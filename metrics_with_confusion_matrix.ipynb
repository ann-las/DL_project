{
  "nbformat": 4,
  "nbformat_minor": 0,
  "metadata": {
    "colab": {
      "provenance": [],
      "gpuType": "T4",
      "authorship_tag": "ABX9TyPmQet+q1JGh5RJt5wKVXHq",
      "include_colab_link": true
    },
    "kernelspec": {
      "name": "python3",
      "display_name": "Python 3"
    },
    "language_info": {
      "name": "python"
    },
    "accelerator": "GPU"
  },
  "cells": [
    {
      "cell_type": "markdown",
      "metadata": {
        "id": "view-in-github",
        "colab_type": "text"
      },
      "source": [
        "<a href=\"https://colab.research.google.com/github/ann-las/DL_project/blob/main/metrics_with_confusion_matrix.ipynb\" target=\"_parent\"><img src=\"https://colab.research.google.com/assets/colab-badge.svg\" alt=\"Open In Colab\"/></a>"
      ]
    },
    {
      "cell_type": "markdown",
      "source": [
        "# Compare metrics based on the DeepTMHMM confusion matrix\n",
        "\n"
      ],
      "metadata": {
        "id": "W7XsIr3_A771"
      }
    },
    {
      "cell_type": "markdown",
      "source": [
        "AUTHORS: Anna Schrøder Lassen (s173461), Astrid Brix Saksager (abrisa) &  Puck Quarles van Ufford (puqu)\n",
        "\n",
        "DATE: December 2023\n",
        "\n",
        "DESCRIPTION: This Colab calculates topology and protein type accuracies in the manner of the confusion matrix calculations done by the authors of the DeepTMHMM (Hallgren J, Tsirigos KD, Pedersen MD, et al. DeepTMHMM predicts alpha and beta transmembrane proteins using deep neural networks. bioRxiv; 2022. DOI: 10.1101/2022.04.08.487609). Functions that are directly reused are cite this paper. The script calculate values for the predictions made by the DeepTMHMM for the test set partition used in our model, and for results from the end of our own training (for the training used to compute F1 micro values). Please insert paths to our_test.json, predictions_deeptmhmm.txt, micro_end_target.txt and micro_end_prediction.txt below."
      ],
      "metadata": {
        "id": "b8MR0hlYIU55"
      }
    },
    {
      "cell_type": "code",
      "source": [
        "our_test_file_path = '/content/drive/My Drive/DL/our_test.json' # Insert path for our_test.json here\n",
        "deeptmhmm_file_path = '/content/drive/My Drive/DL/predictions_deeptmhmm.txt' # Insert path for predictions_deeptmhmm.txt here\n",
        "target_data_path = \"/content/drive/My Drive/DL/final_runs_predictions_targets/micro_end_target.txt\" # Insert path for micro_end_target.txt here\n",
        "prediction_data_path = \"/content/drive/My Drive/DL/final_runs_predictions_targets/micro_end_prediction.txt\" # Insert path for micro_end_prediction.txt"
      ],
      "metadata": {
        "id": "NM1CdRS8I6RD"
      },
      "execution_count": 3,
      "outputs": []
    },
    {
      "cell_type": "markdown",
      "source": [
        "## 1) General preparations"
      ],
      "metadata": {
        "id": "IQQpiTqJBD5K"
      }
    },
    {
      "cell_type": "markdown",
      "source": [
        "Mount the drive:"
      ],
      "metadata": {
        "id": "Cg_keZTSBh5x"
      }
    },
    {
      "cell_type": "code",
      "execution_count": 4,
      "metadata": {
        "colab": {
          "base_uri": "https://localhost:8080/"
        },
        "id": "ln1Pw2t_A7HF",
        "outputId": "dddfafb6-295a-43a6-ad9d-ecaa56368928"
      },
      "outputs": [
        {
          "output_type": "stream",
          "name": "stdout",
          "text": [
            "Drive already mounted at /content/drive; to attempt to forcibly remount, call drive.mount(\"/content/drive\", force_remount=True).\n"
          ]
        }
      ],
      "source": [
        "# Mount the drive\n",
        "from google.colab import drive\n",
        "drive.mount('/content/drive')"
      ]
    },
    {
      "cell_type": "markdown",
      "source": [
        "Import packages:"
      ],
      "metadata": {
        "id": "H27Ndb5xBjF7"
      }
    },
    {
      "cell_type": "code",
      "source": [
        "import numpy as np\n",
        "import sys\n",
        "import torch\n",
        "from typing import List, Union, Dict\n",
        "from torch import tensor\n",
        "import json"
      ],
      "metadata": {
        "id": "C2qG-FqdBI6m"
      },
      "execution_count": 5,
      "outputs": []
    },
    {
      "cell_type": "markdown",
      "source": [
        "Topology metrics dictionary and functions:"
      ],
      "metadata": {
        "id": "iWPJSeoKBlFf"
      }
    },
    {
      "cell_type": "code",
      "source": [
        "LABELS: Dict[str,int] = {'I': 0, 'O':1, 'P': 2, 'S': 3, 'M':4, 'B': 5}"
      ],
      "metadata": {
        "id": "xVNWQxI9Czgu"
      },
      "execution_count": 6,
      "outputs": []
    },
    {
      "cell_type": "code",
      "source": [
        "def array_to_string(one_hot_array, topology_dict):\n",
        "    \"\"\"\n",
        "    Code from: Hallgren J, Tsirigos KD, Pedersen MD, et al. DeepTMHMM predicts alpha and beta transmembrane proteins using deep neural networks. bioRxiv; 2022. DOI: 10.1101/2022.04.08.487609.\n",
        "     \"\"\"\n",
        "    topology_string = ''\n",
        "    for line in one_hot_array:\n",
        "        top_key = np.argmax(line)\n",
        "        topology_string += topology_dict[top_key]\n",
        "    return topology_string\n",
        "\n",
        "\n",
        "def label_list_to_topology(labels: Union[List[int], torch.Tensor]) -> List[torch.Tensor]:\n",
        "    \"\"\"\n",
        "    Code from: Hallgren J, Tsirigos KD, Pedersen MD, et al. DeepTMHMM predicts alpha and beta transmembrane proteins using deep neural networks. bioRxiv; 2022. DOI: 10.1101/2022.04.08.487609.\n",
        "\n",
        "    Converts a list of per-position labels to a topology representation.\n",
        "    This maps every sequence to list of where each new symbol start (the topology), e.g. AAABBBBCCC -> [(0,A),(3, B)(7,C)]\n",
        "\n",
        "    Parameters\n",
        "    ----------\n",
        "    labels : list or torch.Tensor of ints\n",
        "    List of labels.\n",
        "\n",
        "    Returns\n",
        "    -------\n",
        "    list of torch.Tensor\n",
        "    List of tensors that represents the topology.\n",
        "    \"\"\"\n",
        "\n",
        "    if isinstance(labels, list):\n",
        "        labels = torch.LongTensor(labels)\n",
        "\n",
        "    if isinstance(labels, torch.Tensor):\n",
        "        zero_tensor = torch.LongTensor([0])\n",
        "    if labels.is_cuda:\n",
        "        zero_tensor = zero_tensor.cuda()\n",
        "\n",
        "    unique, count = torch.unique_consecutive(labels, return_counts=True)\n",
        "    top_list = [torch.cat((zero_tensor, labels[0:1]))]\n",
        "    prev_count = 0\n",
        "    i = 0\n",
        "    for _ in unique.split(1):\n",
        "        if i == 0:\n",
        "            i += 1\n",
        "            continue\n",
        "        prev_count += count[i - 1]\n",
        "        top_list.append(torch.cat((prev_count.view(1), unique[i].view(1))))\n",
        "        i += 1\n",
        "    return top_list\n",
        "\n",
        "\n",
        "def is_topologies_equal(topology_a, topology_b, minimum_seqment_overlap=5):\n",
        "    \"\"\"\n",
        "    Code from: Hallgren J, Tsirigos KD, Pedersen MD, et al. DeepTMHMM predicts alpha and beta transmembrane proteins using deep neural networks. bioRxiv; 2022. DOI: 10.1101/2022.04.08.487609.\n",
        "\n",
        "\n",
        "    Checks whether two topologies are equal.\n",
        "    E.g. [(0,A),(3, B)(7,C)]  is the same as [(0,A),(4, B)(7,C)]\n",
        "    But not the same as [(0,A),(3, C)(7,B)]\n",
        "\n",
        "    Parameters\n",
        "    ----------\n",
        "    topology_a : list of torch.Tensor\n",
        "        First topology. See label_list_to_topology.\n",
        "    topology_b : list of torch.Tensor\n",
        "        Second topology. See label_list_to_topology.\n",
        "    minimum_seqment_overlap : int\n",
        "        Minimum overlap between two segments to be considered equal.\n",
        "\n",
        "    Returns\n",
        "    -------\n",
        "    bool\n",
        "        True if topologies are equal, False otherwise.\n",
        "    \"\"\"\n",
        "\n",
        "    if isinstance(topology_a[0], torch.Tensor):\n",
        "        topology_a = list([a.cpu().numpy() for a in topology_a])\n",
        "    if isinstance(topology_b[0], torch.Tensor):\n",
        "        topology_b = list([b.cpu().numpy() for b in topology_b])\n",
        "    if len(topology_a) != len(topology_b):\n",
        "        return False\n",
        "    for idx, (_position_a, label_a) in enumerate(topology_a):\n",
        "        if label_a != topology_b[idx][1]:\n",
        "            if (label_a in (1,2) and topology_b[idx][1] in (1,2)): # assume O == P\n",
        "                continue\n",
        "            else:\n",
        "                return False\n",
        "        if label_a in (3, 4, 5):\n",
        "            overlap_segment_start = max(topology_a[idx][0], topology_b[idx][0])\n",
        "            overlap_segment_end = min(topology_a[idx + 1][0], topology_b[idx + 1][0])\n",
        "            if label_a == 5:\n",
        "                # Set minimum segment overlap to 3 for Beta regions\n",
        "                minimum_seqment_overlap = 3\n",
        "            if overlap_segment_end - overlap_segment_start < minimum_seqment_overlap:\n",
        "                return False\n",
        "    return True\n",
        "\n",
        "\n",
        "def calculate_acc(correct, total):\n",
        "    \"\"\"\n",
        "    Code from: Hallgren J, Tsirigos KD, Pedersen MD, et al. DeepTMHMM predicts alpha and beta transmembrane proteins using deep neural networks. bioRxiv; 2022. DOI: 10.1101/2022.04.08.487609.\n",
        "    \"\"\"\n",
        "\n",
        "    total = total.float()\n",
        "    correct = correct.float()\n",
        "    if total == 0.0:\n",
        "        return 1\n",
        "    return correct / total\n",
        "\n",
        "\n",
        "def find_predicted_type(string_sequence):\n",
        "\n",
        "  if \"M\" in string_sequence:\n",
        "    if \"S\" in string_sequence:\n",
        "      prot_type_string = \"SP_TM\"\n",
        "      prot_type_int = 1\n",
        "\n",
        "    elif \"S\" not in string_sequence:\n",
        "      prot_type_string = \"TM\"\n",
        "      prot_type_int = 0\n",
        "\n",
        "  elif \"B\" in string_sequence:\n",
        "    prot_type_string = \"beta\"\n",
        "    prot_type_int = 4\n",
        "\n",
        "  elif (\"S\" in string_sequence) and (\"M\" not in string_sequence) and (\"B\" not in string_sequence):\n",
        "    prot_type_string = \"SP_glob\"\n",
        "    prot_type_int = 2\n",
        "\n",
        "  elif (\"I\" in string_sequence) or (\"O\" in string_sequence) or (\"P\" in string_sequence) and (\"S\" not in string_sequence) and (\"M\" not in string_sequence) and (\"B\" not in string_sequence):\n",
        "    prot_type_string = \"glob\"\n",
        "    prot_type_int = 3\n",
        "\n",
        "  else:\n",
        "    print(\"Could not define protein type for sequence:\", string_sequence)\n",
        "\n",
        "  return prot_type_string, prot_type_int\n",
        "\n",
        "\n",
        "\n",
        "def calculate_type_correct_accuracy(confusion_matrix):\n",
        "  \"\"\"\n",
        "  Code for calculations from: Hallgren J, Tsirigos KD, Pedersen MD, et al. DeepTMHMM predicts alpha and beta transmembrane proteins using deep neural networks. bioRxiv; 2022. DOI: 10.1101/2022.04.08.487609.\n",
        "  \"\"\"\n",
        "\n",
        "  # Calculate type correct ratio\n",
        "  type_correct_ratio = \\\n",
        "      calculate_acc(confusion_matrix[0][0] + confusion_matrix[0][5], confusion_matrix[0].sum()) + \\\n",
        "      calculate_acc(confusion_matrix[1][1] + confusion_matrix[1][5], confusion_matrix[1].sum()) + \\\n",
        "      calculate_acc(confusion_matrix[2][2] + confusion_matrix[2][5], confusion_matrix[2].sum()) + \\\n",
        "      calculate_acc(confusion_matrix[3][3] + confusion_matrix[3][5], confusion_matrix[3].sum()) + \\\n",
        "      calculate_acc(confusion_matrix[4][4] + confusion_matrix[4][5], confusion_matrix[4].sum())\n",
        "  type_accuracy = float((type_correct_ratio / 5).detach())\n",
        "\n",
        "  return type_accuracy\n",
        "\n",
        "\n",
        "def calculate_topology_accuracy(confusion_matrix):\n",
        "  \"\"\"\n",
        "  Code for calculations from: Hallgren J, Tsirigos KD, Pedersen MD, et al. DeepTMHMM predicts alpha and beta transmembrane proteins using deep neural networks. bioRxiv; 2022. DOI: 10.1101/2022.04.08.487609.\n",
        "  \"\"\"\n",
        "\n",
        "  tm_accuracy = float(calculate_acc(confusion_matrix[0][5], confusion_matrix[0].sum()))\n",
        "  sptm_accuracy = float(calculate_acc(confusion_matrix[1][5], confusion_matrix[1].sum()))\n",
        "  sp_accuracy = float(calculate_acc(confusion_matrix[2][5], confusion_matrix[2].sum()))\n",
        "  glob_accuracy = float(calculate_acc(confusion_matrix[3][5], confusion_matrix[3].sum()))\n",
        "  beta_accuracy = float(calculate_acc(confusion_matrix[4][5], confusion_matrix[4].sum()))\n",
        "\n",
        "  return tm_accuracy, sptm_accuracy, sp_accuracy, glob_accuracy, beta_accuracy\n",
        "\n",
        "\n",
        "def calculate_type_accuracy(confusion_matrix):\n",
        "  \"\"\"\n",
        "  Code for calculations from: Hallgren J, Tsirigos KD, Pedersen MD, et al. DeepTMHMM predicts alpha and beta transmembrane proteins using deep neural networks. bioRxiv; 2022. DOI: 10.1101/2022.04.08.487609.\n",
        "  \"\"\"\n",
        "\n",
        "  tm_type_acc = float(calculate_acc(confusion_matrix[0][0] + confusion_matrix[0][5], confusion_matrix[0].sum()))\n",
        "  tm_sp_type_acc = float(calculate_acc(confusion_matrix[1][1] + confusion_matrix[1][5], confusion_matrix[1].sum()))\n",
        "  sp_type_acc = float(calculate_acc(confusion_matrix[2][2] + confusion_matrix[2][5], confusion_matrix[2].sum()))\n",
        "  glob_type_acc = float(calculate_acc(confusion_matrix[3][3] + confusion_matrix[3][5], confusion_matrix[3].sum()))\n",
        "  beta_type_acc = float(calculate_acc(confusion_matrix[4][4] + confusion_matrix[4][5], confusion_matrix[4].sum()))\n",
        "\n",
        "  return tm_type_acc, tm_sp_type_acc, sp_type_acc, glob_type_acc, beta_type_acc\n"
      ],
      "metadata": {
        "id": "V7FkLPIXBgmr"
      },
      "execution_count": 7,
      "outputs": []
    },
    {
      "cell_type": "markdown",
      "source": [
        "## 2) DeepTMHMM results"
      ],
      "metadata": {
        "id": "rJ96ZSHFBt5m"
      }
    },
    {
      "cell_type": "markdown",
      "source": [
        "Get uniprots for the partition of data that we use for test:"
      ],
      "metadata": {
        "id": "rhIOTbqEB_nl"
      }
    },
    {
      "cell_type": "code",
      "source": [
        "# Define our uniprots (test)\n",
        "#our_test_file = open('/content/drive/My Drive/DL/our_test.json')\n",
        "our_test_file = open(our_test_file_path)\n",
        "test_dict = json.load(our_test_file)\n",
        "our_test_file.close()\n",
        "\n",
        "our_uniprots = list(test_dict.keys())\n",
        "#print(our_uniprots)\n",
        "print(len(our_uniprots))"
      ],
      "metadata": {
        "colab": {
          "base_uri": "https://localhost:8080/"
        },
        "id": "68lQM064B0LE",
        "outputId": "8e63e461-9d66-4f56-faa1-330a87489693"
      },
      "execution_count": 9,
      "outputs": [
        {
          "output_type": "stream",
          "name": "stdout",
          "text": [
            "714\n"
          ]
        }
      ]
    },
    {
      "cell_type": "markdown",
      "source": [
        "Get DeepTMHMM predictions:"
      ],
      "metadata": {
        "id": "04X7zuCTCG4i"
      }
    },
    {
      "cell_type": "code",
      "source": [
        "# Name of the deepTMHMM file\n",
        "#deeptmhmm_file = '/content/drive/My Drive/DL/predictions_deeptmhmm.txt'\n",
        "deeptmhmm_file = deeptmhmm_file_path\n",
        "\n",
        "# Dict of labels\n",
        "#LABELS: Dict[str,int] = {'I': 0, 'O':1, 'P': 2, 'S': 3, 'M':4, 'B': 5}\n",
        "#labels_trans = str.maketrans(\"IOPSMB\",\"012345\")"
      ],
      "metadata": {
        "id": "i8hC699oCIhQ"
      },
      "execution_count": 10,
      "outputs": []
    },
    {
      "cell_type": "markdown",
      "source": [
        "Get lists of ground truth and DeepTMHMM prediction sequences:"
      ],
      "metadata": {
        "id": "RGU_K-txCOz9"
      }
    },
    {
      "cell_type": "code",
      "source": [
        "# Lists of sequences\n",
        "deep_tmhmmm_uniprots_our_uniprots = list()\n",
        "deep_tmhmmm_uniprots_not_our_uniprots = list()\n",
        "sequences = list()\n",
        "ground_truth = list()\n",
        "tmhmm_prediction = list()\n",
        "\n",
        "read_lines = False\n",
        "count = 0\n",
        "\n",
        "# Run through file and extract sequences\n",
        "with open(deeptmhmm_file, 'r') as file:\n",
        "    for line in file:\n",
        "\n",
        "        # Initiate reading at correct sequences\n",
        "        if line.startswith('>'):\n",
        "            protein_uniprot = line[1:-1]\n",
        "\n",
        "            if protein_uniprot in our_uniprots:\n",
        "                read_lines = True\n",
        "                deep_tmhmmm_uniprots_our_uniprots.append(protein_uniprot)\n",
        "\n",
        "            else:\n",
        "                read_lines = False\n",
        "                deep_tmhmmm_uniprots_not_our_uniprots.append(protein_uniprot)\n",
        "\n",
        "\n",
        "        if not line.startswith('>') and read_lines == True and count == 0:\n",
        "            sequences.append(line[:-1])\n",
        "            count += 1\n",
        "\n",
        "        elif not line.startswith('>') and read_lines == True and count == 1:\n",
        "            ground_truth.append(line[:-1])\n",
        "            count += 1\n",
        "\n",
        "        elif not line.startswith('>') and read_lines == True and count == 2:\n",
        "            tmhmm_prediction.append(line[:-1])\n",
        "            count = 0\n",
        "            readlines = False"
      ],
      "metadata": {
        "id": "XHsArUX-CN4C"
      },
      "execution_count": 11,
      "outputs": []
    },
    {
      "cell_type": "markdown",
      "source": [
        "Check results:"
      ],
      "metadata": {
        "id": "3GbKx3t-CVC9"
      }
    },
    {
      "cell_type": "code",
      "source": [
        "# Number of uniprots\n",
        "print(len(our_uniprots))\n",
        "print(len(deep_tmhmmm_uniprots_our_uniprots))\n",
        "print(len(deep_tmhmmm_uniprots_not_our_uniprots))\n",
        "\n",
        "# Lenghts of sequences\n",
        "print(len(sequences))\n",
        "print(len(ground_truth))\n",
        "print(len(tmhmm_prediction))\n",
        "\n",
        "# Print sequences\n",
        "#print(ground_truth)\n",
        "#print(tmhmm_prediction)"
      ],
      "metadata": {
        "colab": {
          "base_uri": "https://localhost:8080/"
        },
        "id": "MZyXjBykCV7V",
        "outputId": "ee00b063-7caa-4ec8-9e35-e51a898da945"
      },
      "execution_count": 12,
      "outputs": [
        {
          "output_type": "stream",
          "name": "stdout",
          "text": [
            "714\n",
            "714\n",
            "2860\n",
            "714\n",
            "714\n",
            "714\n"
          ]
        }
      ]
    },
    {
      "cell_type": "markdown",
      "source": [
        "Get target labels:"
      ],
      "metadata": {
        "id": "q8GoZW45Fbdc"
      }
    },
    {
      "cell_type": "code",
      "source": [
        "target_list = ground_truth\n",
        "prediction_list = tmhmm_prediction\n",
        "\n",
        "\n",
        "# Get target labels\n",
        "target_labels = list()\n",
        "for string in target_list:\n",
        "  target_label_list = list()\n",
        "  for letter in string:\n",
        "    target_label_list.append(LABELS[letter])\n",
        "\n",
        "  target_labels.append(target_label_list)\n",
        "\n",
        "# Get predicted labels\n",
        "predicted_labels = list()\n",
        "for string in prediction_list:\n",
        "  prediction_label_list = list()\n",
        "  for letter in string:\n",
        "    prediction_label_list.append(LABELS[letter])\n",
        "\n",
        "  predicted_labels.append(prediction_label_list)"
      ],
      "metadata": {
        "id": "O3bg8iB8Fc_6"
      },
      "execution_count": 13,
      "outputs": []
    },
    {
      "cell_type": "markdown",
      "source": [
        "Run through lists to get predictions:"
      ],
      "metadata": {
        "id": "i212R-67Fsyc"
      }
    },
    {
      "cell_type": "code",
      "source": [
        "predicted_types_string = list()\n",
        "predicted_types_int = list()\n",
        "target_types_string = list()\n",
        "target_types_int = list()\n",
        "\n",
        "for i in range(len(prediction_list)):\n",
        "  predicted_types_string.append(find_predicted_type(prediction_list[i])[0])\n",
        "  predicted_types_int.append(find_predicted_type(prediction_list[i])[1])\n",
        "\n",
        "  target_types_string.append(find_predicted_type(target_list[i])[0])\n",
        "  target_types_int.append(find_predicted_type(target_list[i])[1])\n",
        "\n",
        "#print(predicted_types_string)\n",
        "#print(predicted_types_int)\n",
        "#print(target_types_int)"
      ],
      "metadata": {
        "id": "Kj8OIkewFr4-"
      },
      "execution_count": 14,
      "outputs": []
    },
    {
      "cell_type": "markdown",
      "source": [
        "Initiate confusion matrix:"
      ],
      "metadata": {
        "id": "Y2HTxPwIFyR9"
      }
    },
    {
      "cell_type": "code",
      "source": [
        "# Create confusion matrix\n",
        "confusion_matrix = torch.zeros((6,6), dtype = torch.int64)\n",
        "print(confusion_matrix)"
      ],
      "metadata": {
        "colab": {
          "base_uri": "https://localhost:8080/"
        },
        "id": "1Gr7IvInFwcC",
        "outputId": "4ab3746a-35b9-4e60-dd42-7ab6a76cb12d"
      },
      "execution_count": 15,
      "outputs": [
        {
          "output_type": "stream",
          "name": "stdout",
          "text": [
            "tensor([[0, 0, 0, 0, 0, 0],\n",
            "        [0, 0, 0, 0, 0, 0],\n",
            "        [0, 0, 0, 0, 0, 0],\n",
            "        [0, 0, 0, 0, 0, 0],\n",
            "        [0, 0, 0, 0, 0, 0],\n",
            "        [0, 0, 0, 0, 0, 0]])\n"
          ]
        }
      ]
    },
    {
      "cell_type": "markdown",
      "source": [
        "Fill confusion matrix:"
      ],
      "metadata": {
        "id": "2TEAkaAcF3Ii"
      }
    },
    {
      "cell_type": "code",
      "source": [
        "# Fill out confusion matrix\n",
        "\n",
        "for i in range(len(target_types_int)):\n",
        "\n",
        "  # Get types of protein\n",
        "  target_type = target_types_int[i]\n",
        "  predicted_type = predicted_types_int[i]\n",
        "\n",
        "  # Get topologies of protein\n",
        "  #target_topology = target_topologies[i]\n",
        "  #predicted_topology = predicted_topologies[i]\n",
        "  target_topology = label_list_to_topology(target_labels[i])\n",
        "  predicted_topology = label_list_to_topology(predicted_labels[i])\n",
        "\n",
        "  # Check topology match\n",
        "  prediction_topology_match = is_topologies_equal(target_topology, predicted_topology, 5)\n",
        "\n",
        "  # Fill confusion matrix\n",
        "  if target_type == predicted_type:\n",
        "    # if we guessed the type right for SP+GLOB or GLOB, count the topology as correct\n",
        "    if target_type == 2 or target_type == 3 or prediction_topology_match:\n",
        "      confusion_matrix[target_type][5] += 1\n",
        "\n",
        "    else:\n",
        "      confusion_matrix[target_type][predicted_type] += 1\n",
        "\n",
        "  else:\n",
        "    confusion_matrix[target_type][predicted_type] += 1\n",
        "\n",
        "\n",
        "\n",
        "print(confusion_matrix)"
      ],
      "metadata": {
        "colab": {
          "base_uri": "https://localhost:8080/"
        },
        "id": "gMya2S1WF4R5",
        "outputId": "500cde9f-8e64-409b-a1b4-a65e9fb3dc2c"
      },
      "execution_count": 16,
      "outputs": [
        {
          "output_type": "stream",
          "name": "stdout",
          "text": [
            "tensor([[  7,   1,   0,   1,   0,  68],\n",
            "        [  0,   0,   0,   0,   0,  21],\n",
            "        [  0,   3,   0,   3,   1, 193],\n",
            "        [  7,   0,   1,   0,   0, 392],\n",
            "        [  0,   0,   0,   0,   5,  11],\n",
            "        [  0,   0,   0,   0,   0,   0]])\n"
          ]
        }
      ]
    },
    {
      "cell_type": "markdown",
      "source": [
        "Print accuracies:"
      ],
      "metadata": {
        "id": "HXpsOJbFF6-w"
      }
    },
    {
      "cell_type": "code",
      "source": [
        "print(\"Type correct accuracy:\")\n",
        "print(calculate_type_correct_accuracy(confusion_matrix))\n",
        "print(\" \")\n",
        "\n",
        "print(\"Topology accuracies for protein types:\")\n",
        "top_accuracies = calculate_topology_accuracy(confusion_matrix)\n",
        "print('tm_accuracy:', top_accuracies[0])\n",
        "print('sptm_accuracy:', top_accuracies[1])\n",
        "print('sp_accuracy:', top_accuracies[2])\n",
        "print('glob_accuracy:', top_accuracies[3])\n",
        "print('beta_accuracy:', top_accuracies[4])\n",
        "print(\" \")\n",
        "\n",
        "print(\"Type accuracies for protein types:\")\n",
        "type_accuracies = calculate_type_accuracy(confusion_matrix)\n",
        "print(\"tm_type_acc:\", type_accuracies[0])\n",
        "print(\"tm_sp_type_acc:\", type_accuracies[1])\n",
        "print(\"sp_type_acc:\", type_accuracies[2])\n",
        "print(\"glob_type_acc:\", type_accuracies[3])\n",
        "print(\"beta_type_acc:\", type_accuracies[4])"
      ],
      "metadata": {
        "colab": {
          "base_uri": "https://localhost:8080/"
        },
        "id": "E2hY8EtqF8LZ",
        "outputId": "69531d59-16cc-4628-870c-6daf038d8a29"
      },
      "execution_count": 17,
      "outputs": [
        {
          "output_type": "stream",
          "name": "stdout",
          "text": [
            "Type correct accuracy:\n",
            "0.9838051795959473\n",
            " \n",
            "Topology accuracies for protein types:\n",
            "tm_accuracy: 0.8831169009208679\n",
            "sptm_accuracy: 1.0\n",
            "sp_accuracy: 0.9649999737739563\n",
            "glob_accuracy: 0.9800000190734863\n",
            "beta_accuracy: 0.6875\n",
            " \n",
            "Type accuracies for protein types:\n",
            "tm_type_acc: 0.9740259647369385\n",
            "tm_sp_type_acc: 1.0\n",
            "sp_type_acc: 0.9649999737739563\n",
            "glob_type_acc: 0.9800000190734863\n",
            "beta_type_acc: 1.0\n"
          ]
        }
      ]
    },
    {
      "cell_type": "markdown",
      "source": [
        "## 3) Our results"
      ],
      "metadata": {
        "id": "S1JycKHrCfXg"
      }
    },
    {
      "cell_type": "markdown",
      "source": [
        "Particular dictionary for the model (NB: Important to insert!)"
      ],
      "metadata": {
        "id": "Gth3VVrqC3JB"
      }
    },
    {
      "cell_type": "code",
      "source": [
        "### Get topology dict ###\n",
        "#site_to_num: Dict[str,int] = {'M': 0, 'S': 1, 'P': 2, 'B': 3, 'O': 4, 'I': 5} #micro_best #### ---- IMPORTANT: INSERT HERE FOR YOUR TEST ---- ####\n",
        "#site_to_num: Dict[str,int] =  {'O': 0, 'P': 1, 'S': 2, 'M': 3, 'B': 4, 'I': 5} #macro_best\n",
        "site_to_num: Dict[str, int] = {'M': 0, 'I': 1, 'O': 2, 'S': 3, 'P': 4, 'B': 5} # micro_end\n",
        "#site_to_num: Dict[str, int] = {'P': 0, 'M': 1, 'B': 2, 'O': 3, 'I': 4, 'S': 5} # macro_end\n",
        "num_to_site: Dict[int,str] = {value: key for key, value in site_to_num.items()}"
      ],
      "metadata": {
        "id": "E0kUX7hFC2fd"
      },
      "execution_count": 29,
      "outputs": []
    },
    {
      "cell_type": "markdown",
      "source": [
        "Load target and prediction arrays:"
      ],
      "metadata": {
        "id": "vk8taoI2Ciru"
      }
    },
    {
      "cell_type": "code",
      "source": [
        "#### Open target file  ####\n",
        "#filename = \"/content/drive/My Drive/DL/target_Felix_metrics_test.txt\"\n",
        "#filename = \"/content/drive/My Drive/DL/final_runs_predictions_targets/micro_end_target.txt\"\n",
        "filename = target_data_path\n",
        "firstarray = True\n",
        "\n",
        "with open(filename, 'r') as file:\n",
        "    # Initialize an empty list to store the loaded arrays\n",
        "    target_loaded_arrays = []\n",
        "\n",
        "    for line in file:\n",
        "        if line.startswith(\"#NewArray\"):\n",
        "\n",
        "            if firstarray == True:\n",
        "                firstarray = False\n",
        "                current_array_data = []\n",
        "\n",
        "            elif firstarray == False:\n",
        "                target_loaded_arrays.append(np.array(current_array_data))\n",
        "                current_array_data = []\n",
        "        else:\n",
        "            current_array_data.append(np.fromstring(line, sep='\\t'))\n",
        "\n",
        "    target_loaded_arrays.append(np.array(current_array_data))\n",
        "\n",
        "\n",
        "# Print the loaded arrays\n",
        "#for i, arr in enumerate(target_loaded_arrays):\n",
        "#    print(f\"Array {i + 1}:\\n{arr}\")\n",
        "\n",
        "\n",
        "\n",
        "#### Open prediction file  ####\n",
        "#filename = \"/content/drive/My Drive/DL/prediction_Felix_metrics_test.txt\"\n",
        "#filename = \"/content/drive/My Drive/DL/final_runs_predictions_targets/macro_end_prediction.txt\"\n",
        "filename = prediction_data_path\n",
        "firstarray = True\n",
        "\n",
        "with open(filename, 'r') as file:\n",
        "    # Initialize an empty list to store the loaded arrays\n",
        "    pred_loaded_arrays = []\n",
        "\n",
        "    for line in file:\n",
        "        if line.startswith(\"#NewArray\"):\n",
        "\n",
        "            if firstarray == True:\n",
        "                firstarray = False\n",
        "                current_array_data = []\n",
        "\n",
        "            elif firstarray == False:\n",
        "                pred_loaded_arrays.append(np.array(current_array_data))\n",
        "                current_array_data = []\n",
        "        else:\n",
        "            line = np.fromstring(line, sep='\\t')\n",
        "            line_as_int = (line == np.max(line)).astype(int)\n",
        "            current_array_data.append(line_as_int)\n",
        "\n",
        "    pred_loaded_arrays.append(np.array(current_array_data))\n",
        "\n",
        "\n",
        "# Print the loaded arrays\n",
        "#for i, arr in enumerate(pred_loaded_arrays):\n",
        "#    print(f\"Array {i + 1}:\\n{arr}\")\n",
        "\n",
        "\n",
        "# Check result\n",
        "if len(target_loaded_arrays) == len(pred_loaded_arrays):\n",
        "    print('Same number of arrays.')\n",
        "else:\n",
        "    print('Number of prediction and target arrays do not match.')\n",
        "    sys.exit(1)"
      ],
      "metadata": {
        "colab": {
          "base_uri": "https://localhost:8080/"
        },
        "id": "enHjyiDHChOJ",
        "outputId": "f3dd8a16-f3af-4f31-ad03-4d3b368fefa8"
      },
      "execution_count": 30,
      "outputs": [
        {
          "output_type": "stream",
          "name": "stdout",
          "text": [
            "Same number of arrays.\n"
          ]
        }
      ]
    },
    {
      "cell_type": "markdown",
      "source": [
        "Create lists of sequences:"
      ],
      "metadata": {
        "id": "R8UdCaDaDCeX"
      }
    },
    {
      "cell_type": "code",
      "source": [
        "# Create lists of sequences\n",
        "prediction_list = list()\n",
        "target_list = list()\n",
        "\n",
        "for i in range(len(target_loaded_arrays)):\n",
        "\n",
        "    prediction_sequence = array_to_string(pred_loaded_arrays[i], num_to_site)\n",
        "    prediction_list.append(prediction_sequence)\n",
        "\n",
        "    target_sequence = array_to_string(target_loaded_arrays[i], num_to_site)\n",
        "    target_list.append(target_sequence)\n",
        "\n",
        "print(len(prediction_list))\n",
        "print(len(target_list))\n",
        "#print(prediction_list)\n",
        "#print(target_list)"
      ],
      "metadata": {
        "colab": {
          "base_uri": "https://localhost:8080/"
        },
        "id": "-BhNDCs-DB8X",
        "outputId": "3ee30a49-fb26-4de0-94c7-7d5f7a7538c8"
      },
      "execution_count": 31,
      "outputs": [
        {
          "output_type": "stream",
          "name": "stdout",
          "text": [
            "711\n",
            "711\n"
          ]
        }
      ]
    },
    {
      "cell_type": "markdown",
      "source": [
        "Get target labels:\n"
      ],
      "metadata": {
        "id": "ZbV_4AW9DSOa"
      }
    },
    {
      "cell_type": "code",
      "source": [
        "# Get target labels\n",
        "target_labels = list()\n",
        "for string in target_list:\n",
        "  target_label_list = list()\n",
        "  for letter in string:\n",
        "    target_label_list.append(LABELS[letter])\n",
        "    #print(target_label_list)\n",
        "    #if \"0\" in target_label_list:\n",
        "    #  print(\"yes\")\n",
        "\n",
        "  target_labels.append(target_label_list)\n",
        "\n",
        "# Get predicted labels\n",
        "predicted_labels = list()\n",
        "for string in prediction_list:\n",
        "  prediction_label_list = list()\n",
        "  for letter in string:\n",
        "    prediction_label_list.append(LABELS[letter])\n",
        "\n",
        "  predicted_labels.append(prediction_label_list)\n"
      ],
      "metadata": {
        "id": "fxcVC8AoDTdt"
      },
      "execution_count": 32,
      "outputs": []
    },
    {
      "cell_type": "markdown",
      "source": [
        "Run through lists to get predictions:"
      ],
      "metadata": {
        "id": "E54G-BojDmEo"
      }
    },
    {
      "cell_type": "code",
      "source": [
        "predicted_types_string = list()\n",
        "predicted_types_int = list()\n",
        "target_types_string = list()\n",
        "target_types_int = list()\n",
        "\n",
        "for i in range(len(prediction_list)):\n",
        "  predicted_types_string.append(find_predicted_type(prediction_list[i])[0])\n",
        "  predicted_types_int.append(find_predicted_type(prediction_list[i])[1])\n",
        "\n",
        "  target_types_string.append(find_predicted_type(target_list[i])[0])\n",
        "  target_types_int.append(find_predicted_type(target_list[i])[1])\n",
        "\n",
        "  #if \"B\" in target_list[i]:\n",
        "  #  print(target_types_string[i], target_list[i])\n",
        "  #if target_types_string[i] == \"SP_glob\":\n",
        "  #  print('yay', target_list[i])\n",
        "\n",
        "\n",
        "#print(predicted_types_string)\n",
        "#print(predicted_types_int)\n",
        "#print(target_types_int)"
      ],
      "metadata": {
        "id": "IA9HCOdzDnz7"
      },
      "execution_count": 33,
      "outputs": []
    },
    {
      "cell_type": "markdown",
      "source": [
        "Create confusion matrix:"
      ],
      "metadata": {
        "id": "q6_6cX_MDqVE"
      }
    },
    {
      "cell_type": "code",
      "source": [
        "# Create confusion matrix\n",
        "confusion_matrix = torch.zeros((6,6), dtype = torch.int64)\n",
        "print(confusion_matrix)"
      ],
      "metadata": {
        "colab": {
          "base_uri": "https://localhost:8080/"
        },
        "id": "k7BVs8deDpzS",
        "outputId": "49401710-1662-4236-eee5-2a43fce572c8"
      },
      "execution_count": 34,
      "outputs": [
        {
          "output_type": "stream",
          "name": "stdout",
          "text": [
            "tensor([[0, 0, 0, 0, 0, 0],\n",
            "        [0, 0, 0, 0, 0, 0],\n",
            "        [0, 0, 0, 0, 0, 0],\n",
            "        [0, 0, 0, 0, 0, 0],\n",
            "        [0, 0, 0, 0, 0, 0],\n",
            "        [0, 0, 0, 0, 0, 0]])\n"
          ]
        }
      ]
    },
    {
      "cell_type": "markdown",
      "source": [
        "Fill out confusion matrix:"
      ],
      "metadata": {
        "id": "YUCJpbHFDunQ"
      }
    },
    {
      "cell_type": "code",
      "source": [
        "# Fill out confusion matrix\n",
        "\n",
        "for i in range(len(target_types_int)):\n",
        "\n",
        "  # Get types of protein\n",
        "  target_type = target_types_int[i]\n",
        "  predicted_type = predicted_types_int[i]\n",
        "\n",
        "  # Get topologies of protein\n",
        "  #target_topology = target_topologies[i]\n",
        "  #predicted_topology = predicted_topologies[i]\n",
        "  target_topology = label_list_to_topology(target_labels[i])\n",
        "  predicted_topology = label_list_to_topology(predicted_labels[i])\n",
        "\n",
        "  # Check topology match\n",
        "  prediction_topology_match = is_topologies_equal(target_topology, predicted_topology, 5)\n",
        "\n",
        "  # Fill confusion matrix\n",
        "  if target_type == predicted_type:\n",
        "    # if we guessed the type right for SP+GLOB or GLOB, count the topology as correct\n",
        "    if target_type == 2 or target_type == 3 or prediction_topology_match:\n",
        "      confusion_matrix[target_type][5] += 1\n",
        "\n",
        "    else:\n",
        "      confusion_matrix[target_type][predicted_type] += 1\n",
        "\n",
        "  else:\n",
        "    confusion_matrix[target_type][predicted_type] += 1\n",
        "\n",
        "\n",
        "\n",
        "print(confusion_matrix)"
      ],
      "metadata": {
        "colab": {
          "base_uri": "https://localhost:8080/"
        },
        "id": "8UPWzqPVDv2G",
        "outputId": "84c87bfc-74d6-4467-9e22-f65c72f8021b"
      },
      "execution_count": 35,
      "outputs": [
        {
          "output_type": "stream",
          "name": "stdout",
          "text": [
            "tensor([[  0,   0,   0,   0,   0,   0],\n",
            "        [ 74,   0,   0,  23,   0,   0],\n",
            "        [311,   0,   0,  87,   0,   0],\n",
            "        [  0,   0,   0,   0,   0,   0],\n",
            "        [194,   0,   0,  22,   0,   0],\n",
            "        [  0,   0,   0,   0,   0,   0]])\n"
          ]
        }
      ]
    },
    {
      "cell_type": "markdown",
      "source": [
        "Print accuracies"
      ],
      "metadata": {
        "id": "OcEKzYrqEuSX"
      }
    },
    {
      "cell_type": "code",
      "source": [
        "print(\"Type correct accuracy:\")\n",
        "print(calculate_type_correct_accuracy(confusion_matrix))\n",
        "print(\" \")\n",
        "\n",
        "print(\"Topology accuracies for protein types:\")\n",
        "top_accuracies = calculate_topology_accuracy(confusion_matrix)\n",
        "print('tm_accuracy:', top_accuracies[0])\n",
        "print('sptm_accuracy:', top_accuracies[1])\n",
        "print('sp_accuracy:', top_accuracies[2])\n",
        "print('glob_accuracy:', top_accuracies[3])\n",
        "print('beta_accuracy:', top_accuracies[4])\n",
        "print(\" \")\n",
        "\n",
        "print(\"Type accuracies for protein types:\")\n",
        "type_accuracies = calculate_type_accuracy(confusion_matrix)\n",
        "print(\"tm_type_acc:\", type_accuracies[0])\n",
        "print(\"tm_sp_type_acc:\", type_accuracies[1])\n",
        "print(\"sp_type_acc:\", type_accuracies[2])\n",
        "print(\"glob_type_acc:\", type_accuracies[3])\n",
        "print(\"beta_type_acc:\", type_accuracies[4])"
      ],
      "metadata": {
        "colab": {
          "base_uri": "https://localhost:8080/"
        },
        "id": "BoJBH86yEwTJ",
        "outputId": "400c8076-60b5-4601-d763-b5f355aaa69e"
      },
      "execution_count": 36,
      "outputs": [
        {
          "output_type": "stream",
          "name": "stdout",
          "text": [
            "Type correct accuracy:\n",
            "0.4000000059604645\n",
            " \n",
            "Topology accuracies for protein types:\n",
            "tm_accuracy: 1.0\n",
            "sptm_accuracy: 0.0\n",
            "sp_accuracy: 0.0\n",
            "glob_accuracy: 1.0\n",
            "beta_accuracy: 0.0\n",
            " \n",
            "Type accuracies for protein types:\n",
            "tm_type_acc: 1.0\n",
            "tm_sp_type_acc: 0.0\n",
            "sp_type_acc: 0.0\n",
            "glob_type_acc: 1.0\n",
            "beta_type_acc: 0.0\n"
          ]
        }
      ]
    }
  ]
}